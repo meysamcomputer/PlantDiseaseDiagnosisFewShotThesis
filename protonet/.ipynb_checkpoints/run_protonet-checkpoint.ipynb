{
 "cells": [
  {
   "cell_type": "markdown",
   "metadata": {
    "id": "8K9BTt0-V_Pt"
   },
   "source": [
    "# Learn2Learn Prototypical Network Implementation for BRACOL Dataset\n"
   ]
  },
  {
   "cell_type": "markdown",
   "metadata": {
    "id": "u-HJWeayWJpN"
   },
   "source": [
    "***Install learn2learn and EfficientNet***"
   ]
  },
  {
   "cell_type": "code",
   "execution_count": null,
   "metadata": {
    "colab": {
     "base_uri": "https://localhost:8080/"
    },
    "executionInfo": {
     "elapsed": 29835,
     "status": "ok",
     "timestamp": 1613846668307,
     "user": {
      "displayName": "Lucas Tassis",
      "photoUrl": "https://lh3.googleusercontent.com/a-/AOh14GgToNYHgJ8j8JWF5dtUeAHVtwqAD5b9oyH2ccp-=s64",
      "userId": "09714343097020322106"
     },
     "user_tz": 180
    },
    "id": "me0yzFqdV4WN",
    "outputId": "b176f7e1-aa8b-4854-c783-e15eca689b72"
   },
   "outputs": [],
   "source": [
    "!pip install learn2learn\n",
    "!pip install efficientnet_pytorch\n",
    "\n",
    "from IPython.display import clear_output \n",
    "clear_output()\n",
    "print('Done!')"
   ]
  },
  {
   "cell_type": "markdown",
   "metadata": {
    "id": "uf5AOqwYWQ5K"
   },
   "source": [
    "***Some imports***"
   ]
  },
  {
   "cell_type": "code",
   "execution_count": 5,
   "metadata": {
    "id": "r3cMXBz9WQgk"
   },
   "outputs": [
    {
     "ename": "ModuleNotFoundError",
     "evalue": "No module named 'learn2learn'",
     "output_type": "error",
     "traceback": [
      "\u001b[1;31m---------------------------------------------------------------------------\u001b[0m",
      "\u001b[1;31mModuleNotFoundError\u001b[0m                       Traceback (most recent call last)",
      "\u001b[1;32m~\\AppData\\Local\\Temp\\ipykernel_8584\\965159561.py\u001b[0m in \u001b[0;36m<module>\u001b[1;34m\u001b[0m\n\u001b[0;32m      3\u001b[0m \u001b[0msys\u001b[0m\u001b[1;33m.\u001b[0m\u001b[0mpath\u001b[0m\u001b[1;33m.\u001b[0m\u001b[0minsert\u001b[0m\u001b[1;33m(\u001b[0m\u001b[1;36m0\u001b[0m\u001b[1;33m,\u001b[0m \u001b[1;34m'/content/drive/MyDrive/pg/protonet/'\u001b[0m\u001b[1;33m)\u001b[0m\u001b[1;33m\u001b[0m\u001b[1;33m\u001b[0m\u001b[0m\n\u001b[0;32m      4\u001b[0m \u001b[1;33m\u001b[0m\u001b[0m\n\u001b[1;32m----> 5\u001b[1;33m \u001b[1;32mfrom\u001b[0m \u001b[0mmodels\u001b[0m \u001b[1;32mimport\u001b[0m \u001b[1;33m*\u001b[0m\u001b[1;33m\u001b[0m\u001b[1;33m\u001b[0m\u001b[0m\n\u001b[0m\u001b[0;32m      6\u001b[0m \u001b[1;32mfrom\u001b[0m \u001b[0mengine\u001b[0m \u001b[1;32mimport\u001b[0m \u001b[0mcreate_task_pool\u001b[0m\u001b[1;33m,\u001b[0m \u001b[0mrun_train_dataloader\u001b[0m\u001b[1;33m,\u001b[0m \u001b[0mrun_test_dataloader\u001b[0m\u001b[1;33m\u001b[0m\u001b[1;33m\u001b[0m\u001b[0m\n\u001b[0;32m      7\u001b[0m \u001b[1;32mimport\u001b[0m \u001b[0mtorch\u001b[0m\u001b[1;33m\u001b[0m\u001b[1;33m\u001b[0m\u001b[0m\n",
      "\u001b[1;32m~\\Documents\\pg-coffee-main\\protonet\\models.py\u001b[0m in \u001b[0;36m<module>\u001b[1;34m\u001b[0m\n\u001b[0;32m      7\u001b[0m \u001b[1;32mfrom\u001b[0m \u001b[0mtorchvision\u001b[0m\u001b[1;33m.\u001b[0m\u001b[0mmodels\u001b[0m\u001b[1;33m.\u001b[0m\u001b[0mmobilenet\u001b[0m \u001b[1;32mimport\u001b[0m \u001b[0mmobilenet_v2\u001b[0m\u001b[1;33m\u001b[0m\u001b[1;33m\u001b[0m\u001b[0m\n\u001b[0;32m      8\u001b[0m \u001b[1;32mfrom\u001b[0m \u001b[0mefficientnet_pytorch\u001b[0m \u001b[1;32mimport\u001b[0m \u001b[0mEfficientNet\u001b[0m\u001b[1;33m\u001b[0m\u001b[1;33m\u001b[0m\u001b[0m\n\u001b[1;32m----> 9\u001b[1;33m \u001b[1;32mimport\u001b[0m \u001b[0mlearn2learn\u001b[0m \u001b[1;32mas\u001b[0m \u001b[0ml2l\u001b[0m\u001b[1;33m\u001b[0m\u001b[1;33m\u001b[0m\u001b[0m\n\u001b[0m\u001b[0;32m     10\u001b[0m \u001b[1;33m\u001b[0m\u001b[0m\n\u001b[0;32m     11\u001b[0m \u001b[1;33m\u001b[0m\u001b[0m\n",
      "\u001b[1;31mModuleNotFoundError\u001b[0m: No module named 'learn2learn'"
     ]
    }
   ],
   "source": [
    "import sys\n",
    "# change this to your own protonet files dir\n",
    "sys.path.insert(0, '/content/drive/MyDrive/pg/protonet/')\n",
    "\n",
    "from models import *\n",
    "from engine import create_task_pool, run_train_dataloader, run_test_dataloader\n",
    "import torch\n",
    "import torch.nn as nn\n",
    "import torch.nn.functional as F\n",
    "from torch.utils.data import DataLoader\n",
    "import torchvision\n",
    "import torchvision.transforms as transforms"
   ]
  },
  {
   "cell_type": "markdown",
   "metadata": {
    "id": "0E1sioT6ySMz"
   },
   "source": [
    "### Training on Dataset"
   ]
  },
  {
   "cell_type": "markdown",
   "metadata": {
    "id": "wMFXxgChW8mb"
   },
   "source": [
    "***Define some hiperparams***"
   ]
  },
  {
   "cell_type": "code",
   "execution_count": null,
   "metadata": {
    "id": "iwkSg68rW_RK"
   },
   "outputs": [],
   "source": [
    "# tasks params\n",
    "ways = 5\n",
    "shot = 1\n",
    "\n",
    "# model & optimizer & lr_scheduler\n",
    "model = MobileNetv2()\n",
    "optimizer = torch.optim.SGD(model.parameters(), lr=0.001, momentum=0.9)\n",
    "lr_scheduler = torch.optim.lr_scheduler.StepLR(optimizer, step_size=20, gamma=0.5)\n",
    "\n",
    "# path to data\n",
    "path_data = '/content/drive/MyDrive/pg/dataset/'\n",
    "\n",
    "# dataset transforms\n",
    "train_transforms=transforms.Compose([\n",
    "            transforms.Resize((224, 224)),\n",
    "            transforms.RandomHorizontalFlip(0.5),\n",
    "            transforms.RandomVerticalFlip(0.5),\n",
    "            transforms.RandomApply([transforms.RandomRotation(10)], 0.25),\n",
    "            transforms.ColorJitter(brightness=0.25, contrast=0.25, saturation=0.25),\n",
    "            transforms.ToTensor(),\n",
    "            transforms.Normalize([0.485, 0.456, 0.406], [0.229, 0.224, 0.225])\n",
    "            ])\n",
    "\n",
    "val_transforms=transforms.Compose([\n",
    "            transforms.Resize((224, 224)),\n",
    "            transforms.ToTensor(),\n",
    "            transforms.Normalize([0.485, 0.456, 0.406], [0.229, 0.224, 0.225])\n",
    "            ])"
   ]
  },
  {
   "cell_type": "markdown",
   "metadata": {
    "id": "EbpUxSRLXsEQ"
   },
   "source": [
    "***Define train dataset, validation dataset and task pool***"
   ]
  },
  {
   "cell_type": "code",
   "execution_count": null,
   "metadata": {
    "id": "JeftO-toXrYc"
   },
   "outputs": [],
   "source": [
    "train_dataset = torchvision.datasets.ImageFolder(root=path_data + 'train/', transform=train_transforms)\n",
    "train_loader = DataLoader(train_dataset, batch_size=16, shuffle=True)\n",
    "\n",
    "val_dataset = torchvision.datasets.ImageFolder(root=path_data + 'val/', transform=val_transforms)\n",
    "val_loader = DataLoader(val_dataset, batch_size=16, shuffle=True)\n",
    "\n",
    "# it might take a while to define the task pool\n",
    "task_pool = create_task_pool(dataset=train_dataset, num_tasks=-1, ways=5, shot=1)"
   ]
  },
  {
   "cell_type": "markdown",
   "metadata": {
    "id": "UuXyXq1kXpNq"
   },
   "source": [
    "***Run training***"
   ]
  },
  {
   "cell_type": "code",
   "execution_count": null,
   "metadata": {
    "colab": {
     "base_uri": "https://localhost:8080/"
    },
    "executionInfo": {
     "elapsed": 1976438,
     "status": "ok",
     "timestamp": 1613342163371,
     "user": {
      "displayName": "Lucas Tassis",
      "photoUrl": "https://lh3.googleusercontent.com/a-/AOh14GgToNYHgJ8j8JWF5dtUeAHVtwqAD5b9oyH2ccp-=s64",
      "userId": "09714343097020322106"
     },
     "user_tz": 180
    },
    "id": "NbZQnaFZXGN6",
    "outputId": "5f205646-e340-4c4c-b4e7-f74422dc4471"
   },
   "outputs": [],
   "source": [
    "run_train_dataloader(n_epochs=100, \n",
    "                     train_loader=train_loader, \n",
    "                     val_loader=val_loader, \n",
    "                     task_pool=task_pool, \n",
    "                     model=model,\n",
    "                     optimizer=optimizer, \n",
    "                     lr_scheduler=lr_scheduler, \n",
    "                     ways=ways, \n",
    "                     shot=shot, \n",
    "                     save_path='model_final.pth')"
   ]
  },
  {
   "cell_type": "markdown",
   "metadata": {
    "id": "pnhnKnP2yLpB"
   },
   "source": [
    "### Inference on Dataset"
   ]
  },
  {
   "cell_type": "markdown",
   "metadata": {
    "id": "hhl7wSccvgAo"
   },
   "source": [
    "***Define the model and weights***"
   ]
  },
  {
   "cell_type": "code",
   "execution_count": null,
   "metadata": {
    "colab": {
     "base_uri": "https://localhost:8080/"
    },
    "executionInfo": {
     "elapsed": 584,
     "status": "ok",
     "timestamp": 1613345028312,
     "user": {
      "displayName": "Lucas Tassis",
      "photoUrl": "https://lh3.googleusercontent.com/a-/AOh14GgToNYHgJ8j8JWF5dtUeAHVtwqAD5b9oyH2ccp-=s64",
      "userId": "09714343097020322106"
     },
     "user_tz": 180
    },
    "id": "QOIFdO0OvkuZ",
    "outputId": "87453e36-56c1-4ce6-9ff1-441163a5fb0f"
   },
   "outputs": [],
   "source": [
    "# tasks params\n",
    "ways = 5\n",
    "shot = 1\n",
    "path_data = '/content/drive/MyDrive/pg/dataset/'\n",
    "\n",
    "\n",
    "# define model\n",
    "model = MobileNetv2()\n",
    "model.load_state_dict(torch.load('model_final.pth'))\n",
    "model.eval()"
   ]
  },
  {
   "cell_type": "markdown",
   "metadata": {
    "id": "axqah8L4YxQn"
   },
   "source": [
    "***Define test dataset***"
   ]
  },
  {
   "cell_type": "code",
   "execution_count": null,
   "metadata": {
    "id": "tdrpyJEFYvx-"
   },
   "outputs": [],
   "source": [
    "trans = transforms.Compose([\n",
    "            transforms.Resize((224, 224)),\n",
    "            transforms.ToTensor(),\n",
    "            transforms.Normalize([0.485, 0.456, 0.406], [0.229, 0.224, 0.225])\n",
    "            ])\n",
    "test_dataset = torchvision.datasets.ImageFolder(root=path_data + 'test/', transform=trans)\n",
    "test_loader = DataLoader(test_dataset, batch_size=1, shuffle=True)\n",
    "\n",
    "\n",
    "# it might take a while to define the task pool\n",
    "train_dataset = torchvision.datasets.ImageFolder(root=path_data + 'train/', transform=trans)\n",
    "task_pool = create_task_pool(dataset=train_dataset, num_tasks=-1, ways=ways, shot=shot)"
   ]
  },
  {
   "cell_type": "markdown",
   "metadata": {
    "id": "3OWncl02vZD3"
   },
   "source": [
    "***Run inference on test dataset***"
   ]
  },
  {
   "cell_type": "code",
   "execution_count": null,
   "metadata": {
    "colab": {
     "base_uri": "https://localhost:8080/"
    },
    "executionInfo": {
     "elapsed": 13803,
     "status": "ok",
     "timestamp": 1613345081076,
     "user": {
      "displayName": "Lucas Tassis",
      "photoUrl": "https://lh3.googleusercontent.com/a-/AOh14GgToNYHgJ8j8JWF5dtUeAHVtwqAD5b9oyH2ccp-=s64",
      "userId": "09714343097020322106"
     },
     "user_tz": 180
    },
    "id": "CtnOZDCTvYnl",
    "outputId": "25c1e619-1ea6-4f9f-a6fe-917f2d58a7a8"
   },
   "outputs": [],
   "source": [
    "results_dict = run_test_dataloader(model=model, \n",
    "                    test_loader=test_loader, \n",
    "                    task_pool=task_pool, \n",
    "                    ways=ways, \n",
    "                    shot=shot)"
   ]
  },
  {
   "cell_type": "markdown",
   "metadata": {
    "id": "LcgRAyRc5nH6"
   },
   "source": [
    "***Plot confusion matrix***"
   ]
  },
  {
   "cell_type": "code",
   "execution_count": null,
   "metadata": {
    "colab": {
     "base_uri": "https://localhost:8080/",
     "height": 623
    },
    "executionInfo": {
     "elapsed": 982,
     "status": "ok",
     "timestamp": 1613347487280,
     "user": {
      "displayName": "Lucas Tassis",
      "photoUrl": "https://lh3.googleusercontent.com/a-/AOh14GgToNYHgJ8j8JWF5dtUeAHVtwqAD5b9oyH2ccp-=s64",
      "userId": "09714343097020322106"
     },
     "user_tz": 180
    },
    "id": "TI_bfpm51jr7",
    "outputId": "115074d1-e297-4085-a134-1a4c4673cc4f"
   },
   "outputs": [],
   "source": [
    "from sklearn.metrics import confusion_matrix, ConfusionMatrixDisplay\n",
    "from sklearn.metrics import precision_score, recall_score, f1_score\n",
    "import matplotlib.pyplot as plt\n",
    "import pandas as pd\n",
    "import seaborn as sn\n",
    "\n",
    "y_true = results_dict['real']\n",
    "y_pred = results_dict['predicted']\n",
    "\n",
    "cm = confusion_matrix(results_dict['real'], results_dict['predicted'], normalize='true')\n",
    "df_cm = pd.DataFrame(cm, index = [i for i in ['Healthy', 'Miner', 'Rust', 'Phoma', 'Cercospora']],\n",
    "                  columns = [i for i in ['Healthy', 'Miner', 'Rust', 'Phoma', 'Cercospora']])\n",
    "plt.figure(figsize = (12,9))\n",
    "sn.heatmap(df_cm, annot=True, cmap=\"Blues\", vmin=0, vmax=1)\n",
    "plt.ylabel('True Label', fontweight='bold')\n",
    "plt.xlabel('Predicted Label', fontweight='bold')\n",
    "plt.title('Confusion Matrix', fontsize=18, fontweight='bold')\n",
    "print(precision_score(y_true, y_pred, average='macro'))\n",
    "print(recall_score(y_true, y_pred, average='macro'))\n",
    "print(f1_score(y_true, y_pred, average='macro'))"
   ]
  },
  {
   "cell_type": "markdown",
   "metadata": {
    "id": "CCDuLvVLM-6p"
   },
   "source": [
    "### Run training script for multiple backbones"
   ]
  },
  {
   "cell_type": "code",
   "execution_count": null,
   "metadata": {
    "id": "xnwbM4QsNB-0"
   },
   "outputs": [],
   "source": [
    "import sys\n",
    "sys.path.insert(0, '/content/drive/MyDrive/pg/protonet')\n",
    "from run_protonet_models import run_protonet_models\n",
    "\n",
    "run_protonet_models(ways=5, shot=1, path_data='/content/drive/MyDrive/pg/dataset/')"
   ]
  },
  {
   "cell_type": "markdown",
   "metadata": {
    "id": "JC8CJhk4GMiF"
   },
   "source": [
    "***Plot t-SNE***"
   ]
  },
  {
   "cell_type": "code",
   "execution_count": null,
   "metadata": {
    "colab": {
     "base_uri": "https://localhost:8080/",
     "height": 1000
    },
    "executionInfo": {
     "elapsed": 44365,
     "status": "ok",
     "timestamp": 1613854278587,
     "user": {
      "displayName": "Lucas Tassis",
      "photoUrl": "https://lh3.googleusercontent.com/a-/AOh14GgToNYHgJ8j8JWF5dtUeAHVtwqAD5b9oyH2ccp-=s64",
      "userId": "09714343097020322106"
     },
     "user_tz": 180
    },
    "id": "M6jiEXDVGOhg",
    "outputId": "d322087c-0c6d-46eb-ff8d-ee4509727711"
   },
   "outputs": [],
   "source": [
    "import sys\n",
    "sys.path.insert(0, '/content/drive/MyDrive/pg/protonet')\n",
    "from run_protonet_models import generate_tSNE\n",
    "\n",
    "generate_tSNE(ways=5, shot=5, path_data='/content/drive/MyDrive/pg/dataset/')\n"
   ]
  },
  {
   "cell_type": "code",
   "execution_count": null,
   "metadata": {},
   "outputs": [],
   "source": []
  }
 ],
 "metadata": {
  "accelerator": "GPU",
  "colab": {
   "authorship_tag": "ABX9TyOCSKo4P47nZS9Lvm3F3/sa",
   "collapsed_sections": [],
   "mount_file_id": "1EOSRQyDGhtafdHjrS9tKU4A0E7CPRkvB",
   "name": "run_protonet.ipynb",
   "provenance": [],
   "toc_visible": true
  },
  "kernelspec": {
   "display_name": "Python 3 (ipykernel)",
   "language": "python",
   "name": "python3"
  },
  "language_info": {
   "codemirror_mode": {
    "name": "ipython",
    "version": 3
   },
   "file_extension": ".py",
   "mimetype": "text/x-python",
   "name": "python",
   "nbconvert_exporter": "python",
   "pygments_lexer": "ipython3",
   "version": "3.9.13"
  }
 },
 "nbformat": 4,
 "nbformat_minor": 1
}

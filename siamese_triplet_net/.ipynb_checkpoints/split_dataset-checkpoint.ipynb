{
 "cells": [
  {
   "cell_type": "code",
   "execution_count": 51,
   "id": "e27a8038",
   "metadata": {},
   "outputs": [
    {
     "name": "stdout",
     "output_type": "stream",
     "text": [
      "Image splitting complete.\n"
     ]
    }
   ],
   "source": [
    "import os\n",
    "import random\n",
    "import shutil\n",
    "\n",
    "# Set the path of the main directory containing the class subdirectories\n",
    "main_dir = 'src\\dataset\\plantvillage\\PlantVillage'\n",
    "\n",
    "# Set the path of the output directory where the train, test, and validation sets will be saved\n",
    "output_dir = 'src\\dataset'\n",
    "\n",
    "# Set the sizes of the train, test, and validation sets as a percentage of the total dataset size\n",
    "train_size = 0.7\n",
    "test_size = 0.2\n",
    "val_size = 0.1\n",
    "\n",
    "# Create the output directories if they don't already exist\n",
    "os.makedirs(output_dir, exist_ok=True)\n",
    "os.makedirs(os.path.join(output_dir, 'train'), exist_ok=True)\n",
    "os.makedirs(os.path.join(output_dir, 'test'), exist_ok=True)\n",
    "os.makedirs(os.path.join(output_dir, 'val'), exist_ok=True)\n",
    "\n",
    "# Loop through each class subdirectory in the main directory\n",
    "for class_dir in os.listdir(main_dir):\n",
    "    if os.path.isdir(os.path.join(main_dir, class_dir)):\n",
    "        # Create the subdirectories for the current class in the output directories\n",
    "        os.makedirs(os.path.join(output_dir, 'train', class_dir), exist_ok=True)\n",
    "        os.makedirs(os.path.join(output_dir, 'test', class_dir), exist_ok=True)\n",
    "        os.makedirs(os.path.join(output_dir, 'val', class_dir), exist_ok=True)\n",
    "\n",
    "        # Get a list of all the image filenames in the current class subdirectory\n",
    "        image_filenames = os.listdir(os.path.join(main_dir, class_dir))\n",
    "\n",
    "        # Shuffle the image filenames randomly\n",
    "        random.shuffle(image_filenames)\n",
    "\n",
    "        # Split the image filenames into training, testing, and validation sets\n",
    "        num_images = len(image_filenames)\n",
    "        num_train = int(num_images * train_size)\n",
    "        num_test = int(num_images * test_size)\n",
    "        num_val = num_images - num_train - num_test\n",
    "\n",
    "        train_filenames = image_filenames[:num_train]\n",
    "        test_filenames = image_filenames[num_train:num_train+num_test]\n",
    "        val_filenames = image_filenames[num_train+num_test:]\n",
    "\n",
    "        # Copy the images into the appropriate output directories\n",
    "        for filename in train_filenames:\n",
    "            src_path = os.path.join(main_dir, class_dir, filename)\n",
    "            dst_path = os.path.join(output_dir, 'train', class_dir, filename)\n",
    "            shutil.copyfile(src_path, dst_path)\n",
    "\n",
    "        for filename in test_filenames:\n",
    "            src_path = os.path.join(main_dir, class_dir, filename)\n",
    "            dst_path = os.path.join(output_dir, 'test', class_dir, filename)\n",
    "            shutil.copyfile(src_path, dst_path)\n",
    "\n",
    "        for filename in val_filenames:\n",
    "            src_path =os.path.join(main_dir, class_dir, filename)\n",
    "            dst_path = os.path.join(output_dir, 'val', class_dir, filename)\n",
    "            shutil.copyfile(src_path, dst_path)\n",
    "\n",
    "print('Image splitting complete.')"
   ]
  },
  {
   "cell_type": "code",
   "execution_count": null,
   "id": "b12d2466",
   "metadata": {},
   "outputs": [],
   "source": []
  },
  {
   "cell_type": "code",
   "execution_count": null,
   "id": "f13baf59",
   "metadata": {},
   "outputs": [],
   "source": []
  }
 ],
 "metadata": {
  "kernelspec": {
   "display_name": "Python 3 (ipykernel)",
   "language": "python",
   "name": "python3"
  },
  "language_info": {
   "codemirror_mode": {
    "name": "ipython",
    "version": 3
   },
   "file_extension": ".py",
   "mimetype": "text/x-python",
   "name": "python",
   "nbconvert_exporter": "python",
   "pygments_lexer": "ipython3",
   "version": "3.9.13"
  }
 },
 "nbformat": 4,
 "nbformat_minor": 5
}

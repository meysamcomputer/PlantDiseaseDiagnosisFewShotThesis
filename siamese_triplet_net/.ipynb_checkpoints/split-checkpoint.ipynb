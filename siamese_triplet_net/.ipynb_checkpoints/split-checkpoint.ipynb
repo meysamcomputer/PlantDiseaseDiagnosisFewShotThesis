{
 "cells": [
  {
   "cell_type": "code",
   "execution_count": null,
   "id": "e04a6314",
   "metadata": {},
   "outputs": [],
   "source": [
    "import os\n",
    "import random\n",
    "from shutil import copyfile\n",
    "from sklearn.model_selection import train_test_split\n",
    "\n",
    "# Set the path of the directory containing your image dataset\n",
    "dataset_path = \"/src/dataset/plantvillage/PlantVillage\"\n",
    "\n",
    "# Set the paths of the directories where you want to save the train, test, and validation sets\n",
    "train_path = \"/src/dataset/train\"\n",
    "test_path = \"/src/dataset/test\"\n",
    "val_path = \"/src/dataset/validation\"\n",
    "\n",
    "# Set the size of the validation and test sets as a percentage of the total dataset size\n",
    "val_size = 0.15\n",
    "test_size = 0.15\n",
    "\n",
    "# Create the directories if they don't exist\n",
    "os.makedirs(train_path, exist_ok=True)\n",
    "os.makedirs(test_path, exist_ok=True)\n",
    "os.makedirs(val_path, exist_ok=True)\n",
    "\n",
    "# Get a list of all the image filenames in the dataset directory\n",
    "image_filenames = os.listdir(dataset_path)\n",
    "\n",
    "# Split the image filenames into training, testing, and validation sets\n",
    "train_filenames, test_val_filenames = train_test_split(image_filenames, test_size=(val_size + test_size))\n",
    "test_filenames, val_filenames = train_test_split(test_val_filenames, test_size=val_size/(val_size + test_size))\n",
    "\n",
    "# Copy the images into the appropriate directories\n",
    "for filename in train_filenames:\n",
    "    src_path = os.path.join(dataset_path,filename)\n",
    "    dst_path = os.path.join(train_path, filename)\n",
    "    copyfile(src_path, dst_path)\n",
    "\n",
    "for filename in test_filenames:\n",
    "    src_path = os.path.join(dataset_path, filename)\n",
    "    dst_path = os.path.join(test_path, filename)\n",
    "    copyfile(src_path, dst_path)\n",
    "\n",
    "for filename in val_filenames:\n",
    "    src_path = os.path.join(dataset_path, filename)\n",
    "    dst_path = os.path.join(val_path, filename)\n",
    "    copyfile(src_path, dst_path)\n",
    "\n",
    "print(f\"Split {len(image_filenames)} images into {len(train_filenames)} training images, {len(test_filenames)} testing images, and {len(val_filenames)} validation images.\")"
   ]
  }
 ],
 "metadata": {
  "kernelspec": {
   "display_name": "Python 3 (ipykernel)",
   "language": "python",
   "name": "python3"
  },
  "language_info": {
   "codemirror_mode": {
    "name": "ipython",
    "version": 3
   },
   "file_extension": ".py",
   "mimetype": "text/x-python",
   "name": "python",
   "nbconvert_exporter": "python",
   "pygments_lexer": "ipython3",
   "version": "3.9.13"
  }
 },
 "nbformat": 4,
 "nbformat_minor": 5
}

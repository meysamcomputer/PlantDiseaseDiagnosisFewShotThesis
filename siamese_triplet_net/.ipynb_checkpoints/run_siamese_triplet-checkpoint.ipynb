{
 "cells": [
  {
   "cell_type": "markdown",
   "metadata": {
    "id": "avPcY8HI4lxZ"
   },
   "source": [
    "# Code for running SiameseNet and TripletNet on BRACOL Dataset\n",
    "\n",
    "***The code used in this notebook is mostly from [this](https://github.com/adambielski/siamese-triplet/). If you are interested in it, check it out, it is extremely well documented***"
   ]
  },
  {
   "cell_type": "markdown",
   "metadata": {
    "id": "Vmtm0BvZ4sga"
   },
   "source": [
    "***Install libs***"
   ]
  },
  {
   "cell_type": "code",
   "execution_count": 2,
   "metadata": {
    "colab": {
     "base_uri": "https://localhost:8080/"
    },
    "executionInfo": {
     "elapsed": 29944,
     "status": "ok",
     "timestamp": 1613921977255,
     "user": {
      "displayName": "Lucas Tassis",
      "photoUrl": "https://lh3.googleusercontent.com/a-/AOh14GgToNYHgJ8j8JWF5dtUeAHVtwqAD5b9oyH2ccp-=s64",
      "userId": "09714343097020322106"
     },
     "user_tz": 180
    },
    "id": "5HbRBwgh4sLV",
    "outputId": "a437c0b1-41f9-4847-b638-487c6ac2e287"
   },
   "outputs": [
    {
     "name": "stdout",
     "output_type": "stream",
     "text": [
      "Requirement already satisfied: learn2learn in c:\\programdata\\anaconda3\\lib\\site-packages (0.1.7)\n",
      "Requirement already satisfied: torchvision>=0.3.0 in c:\\programdata\\anaconda3\\lib\\site-packages (from learn2learn) (0.15.1)\n",
      "Requirement already satisfied: gym>=0.14.0 in c:\\programdata\\anaconda3\\lib\\site-packages (from learn2learn) (0.26.2)\n",
      "Requirement already satisfied: numpy>=1.15.4 in c:\\programdata\\anaconda3\\lib\\site-packages (from learn2learn) (1.21.5)\n",
      "Requirement already satisfied: gsutil in c:\\programdata\\anaconda3\\lib\\site-packages (from learn2learn) (5.21)\n",
      "Requirement already satisfied: tqdm in c:\\programdata\\anaconda3\\lib\\site-packages (from learn2learn) (4.64.1)\n",
      "Requirement already satisfied: qpth>=0.0.15 in c:\\programdata\\anaconda3\\lib\\site-packages (from learn2learn) (0.0.15)\n",
      "Requirement already satisfied: torch>=1.1.0 in c:\\programdata\\anaconda3\\lib\\site-packages (from learn2learn) (2.0.0)\n",
      "Requirement already satisfied: scipy in c:\\programdata\\anaconda3\\lib\\site-packages (from learn2learn) (1.9.1)\n",
      "Requirement already satisfied: requests in c:\\programdata\\anaconda3\\lib\\site-packages (from learn2learn) (2.28.1)\n",
      "Requirement already satisfied: gym-notices>=0.0.4 in c:\\programdata\\anaconda3\\lib\\site-packages (from gym>=0.14.0->learn2learn) (0.0.8)\n",
      "Requirement already satisfied: importlib-metadata>=4.8.0 in c:\\programdata\\anaconda3\\lib\\site-packages (from gym>=0.14.0->learn2learn) (4.11.3)\n",
      "Requirement already satisfied: cloudpickle>=1.2.0 in c:\\programdata\\anaconda3\\lib\\site-packages (from gym>=0.14.0->learn2learn) (2.0.0)\n",
      "Requirement already satisfied: jinja2 in c:\\programdata\\anaconda3\\lib\\site-packages (from torch>=1.1.0->learn2learn) (2.11.3)\n",
      "Requirement already satisfied: networkx in c:\\programdata\\anaconda3\\lib\\site-packages (from torch>=1.1.0->learn2learn) (2.8.4)\n",
      "Requirement already satisfied: sympy in c:\\programdata\\anaconda3\\lib\\site-packages (from torch>=1.1.0->learn2learn) (1.10.1)\n",
      "Requirement already satisfied: filelock in c:\\programdata\\anaconda3\\lib\\site-packages (from torch>=1.1.0->learn2learn) (3.6.0)\n",
      "Requirement already satisfied: typing-extensions in c:\\programdata\\anaconda3\\lib\\site-packages (from torch>=1.1.0->learn2learn) (4.3.0)\n",
      "Requirement already satisfied: pillow!=8.3.*,>=5.3.0 in c:\\programdata\\anaconda3\\lib\\site-packages (from torchvision>=0.3.0->learn2learn) (9.2.0)\n",
      "Requirement already satisfied: google-apitools>=0.5.32 in c:\\programdata\\anaconda3\\lib\\site-packages (from gsutil->learn2learn) (0.5.32)\n",
      "Requirement already satisfied: google-auth[aiohttp]>=2.5.0 in c:\\programdata\\anaconda3\\lib\\site-packages (from gsutil->learn2learn) (2.16.3)\n",
      "Requirement already satisfied: six>=1.12.0 in c:\\programdata\\anaconda3\\lib\\site-packages (from gsutil->learn2learn) (1.16.0)\n",
      "Requirement already satisfied: retry-decorator>=1.0.0 in c:\\programdata\\anaconda3\\lib\\site-packages (from gsutil->learn2learn) (1.1.1)\n",
      "Requirement already satisfied: argcomplete>=1.9.4 in c:\\programdata\\anaconda3\\lib\\site-packages (from gsutil->learn2learn) (3.0.4)\n",
      "Requirement already satisfied: gcs-oauth2-boto-plugin>=3.0 in c:\\programdata\\anaconda3\\lib\\site-packages (from gsutil->learn2learn) (3.0)\n",
      "Requirement already satisfied: fasteners>=0.14.1 in c:\\programdata\\anaconda3\\lib\\site-packages (from gsutil->learn2learn) (0.18)\n",
      "Requirement already satisfied: httplib2==0.20.4 in c:\\programdata\\anaconda3\\lib\\site-packages (from gsutil->learn2learn) (0.20.4)\n",
      "Requirement already satisfied: google-reauth>=0.1.0 in c:\\programdata\\anaconda3\\lib\\site-packages (from gsutil->learn2learn) (0.1.1)\n",
      "Requirement already satisfied: crcmod>=1.7 in c:\\programdata\\anaconda3\\lib\\site-packages (from gsutil->learn2learn) (1.7)\n",
      "Requirement already satisfied: monotonic>=1.4 in c:\\programdata\\anaconda3\\lib\\site-packages (from gsutil->learn2learn) (1.6)\n",
      "Requirement already satisfied: pyOpenSSL>=0.13 in c:\\programdata\\anaconda3\\lib\\site-packages (from gsutil->learn2learn) (22.0.0)\n",
      "Requirement already satisfied: pyparsing!=3.0.0,!=3.0.1,!=3.0.2,!=3.0.3,<4,>=2.4.2 in c:\\programdata\\anaconda3\\lib\\site-packages (from httplib2==0.20.4->gsutil->learn2learn) (3.0.9)\n",
      "Requirement already satisfied: idna<4,>=2.5 in c:\\programdata\\anaconda3\\lib\\site-packages (from requests->learn2learn) (3.3)\n",
      "Requirement already satisfied: certifi>=2017.4.17 in c:\\programdata\\anaconda3\\lib\\site-packages (from requests->learn2learn) (2022.9.14)\n",
      "Requirement already satisfied: charset-normalizer<3,>=2 in c:\\programdata\\anaconda3\\lib\\site-packages (from requests->learn2learn) (2.0.4)\n",
      "Requirement already satisfied: urllib3<1.27,>=1.21.1 in c:\\programdata\\anaconda3\\lib\\site-packages (from requests->learn2learn) (1.26.11)\n",
      "Requirement already satisfied: colorama in c:\\programdata\\anaconda3\\lib\\site-packages (from tqdm->learn2learn) (0.4.5)\n",
      "Requirement already satisfied: rsa==4.7.2 in c:\\programdata\\anaconda3\\lib\\site-packages (from gcs-oauth2-boto-plugin>=3.0->gsutil->learn2learn) (4.7.2)\n",
      "Requirement already satisfied: oauth2client>=2.2.0 in c:\\programdata\\anaconda3\\lib\\site-packages (from gcs-oauth2-boto-plugin>=3.0->gsutil->learn2learn) (4.1.3)\n",
      "Requirement already satisfied: boto>=2.29.1 in c:\\programdata\\anaconda3\\lib\\site-packages (from gcs-oauth2-boto-plugin>=3.0->gsutil->learn2learn) (2.49.0)\n",
      "Requirement already satisfied: pyasn1>=0.1.3 in c:\\programdata\\anaconda3\\lib\\site-packages (from rsa==4.7.2->gcs-oauth2-boto-plugin>=3.0->gsutil->learn2learn) (0.4.8)\n",
      "Requirement already satisfied: cachetools<6.0,>=2.0.0 in c:\\programdata\\anaconda3\\lib\\site-packages (from google-auth[aiohttp]>=2.5.0->gsutil->learn2learn) (5.3.0)\n",
      "Requirement already satisfied: pyasn1-modules>=0.2.1 in c:\\programdata\\anaconda3\\lib\\site-packages (from google-auth[aiohttp]>=2.5.0->gsutil->learn2learn) (0.2.8)\n",
      "Requirement already satisfied: aiohttp<4.0.0dev,>=3.6.2 in c:\\programdata\\anaconda3\\lib\\site-packages (from google-auth[aiohttp]>=2.5.0->gsutil->learn2learn) (3.8.4)\n",
      "Requirement already satisfied: pyu2f in c:\\programdata\\anaconda3\\lib\\site-packages (from google-reauth>=0.1.0->gsutil->learn2learn) (0.1.5)\n",
      "Requirement already satisfied: zipp>=0.5 in c:\\programdata\\anaconda3\\lib\\site-packages (from importlib-metadata>=4.8.0->gym>=0.14.0->learn2learn) (3.8.0)\n",
      "Requirement already satisfied: cryptography>=35.0 in c:\\programdata\\anaconda3\\lib\\site-packages (from pyOpenSSL>=0.13->gsutil->learn2learn) (37.0.1)\n",
      "Requirement already satisfied: MarkupSafe>=0.23 in c:\\programdata\\anaconda3\\lib\\site-packages (from jinja2->torch>=1.1.0->learn2learn) (2.0.1)\n",
      "Requirement already satisfied: mpmath>=0.19 in c:\\programdata\\anaconda3\\lib\\site-packages (from sympy->torch>=1.1.0->learn2learn) (1.2.1)\n",
      "Requirement already satisfied: frozenlist>=1.1.1 in c:\\programdata\\anaconda3\\lib\\site-packages (from aiohttp<4.0.0dev,>=3.6.2->google-auth[aiohttp]>=2.5.0->gsutil->learn2learn) (1.3.3)\n",
      "Requirement already satisfied: attrs>=17.3.0 in c:\\programdata\\anaconda3\\lib\\site-packages (from aiohttp<4.0.0dev,>=3.6.2->google-auth[aiohttp]>=2.5.0->gsutil->learn2learn) (21.4.0)\n",
      "Requirement already satisfied: multidict<7.0,>=4.5 in c:\\programdata\\anaconda3\\lib\\site-packages (from aiohttp<4.0.0dev,>=3.6.2->google-auth[aiohttp]>=2.5.0->gsutil->learn2learn) (6.0.4)\n",
      "Requirement already satisfied: yarl<2.0,>=1.0 in c:\\programdata\\anaconda3\\lib\\site-packages (from aiohttp<4.0.0dev,>=3.6.2->google-auth[aiohttp]>=2.5.0->gsutil->learn2learn) (1.8.2)\n",
      "Requirement already satisfied: aiosignal>=1.1.2 in c:\\programdata\\anaconda3\\lib\\site-packages (from aiohttp<4.0.0dev,>=3.6.2->google-auth[aiohttp]>=2.5.0->gsutil->learn2learn) (1.3.1)\n",
      "Requirement already satisfied: async-timeout<5.0,>=4.0.0a3 in c:\\programdata\\anaconda3\\lib\\site-packages (from aiohttp<4.0.0dev,>=3.6.2->google-auth[aiohttp]>=2.5.0->gsutil->learn2learn) (4.0.2)\n",
      "Requirement already satisfied: cffi>=1.12 in c:\\programdata\\anaconda3\\lib\\site-packages (from cryptography>=35.0->pyOpenSSL>=0.13->gsutil->learn2learn) (1.15.1)\n",
      "Requirement already satisfied: pycparser in c:\\programdata\\anaconda3\\lib\\site-packages (from cffi>=1.12->cryptography>=35.0->pyOpenSSL>=0.13->gsutil->learn2learn) (2.21)\n",
      "Requirement already satisfied: efficientnet_pytorch in c:\\programdata\\anaconda3\\lib\\site-packages (0.7.1)Done!\n",
      "\n",
      "Requirement already satisfied: torch in c:\\programdata\\anaconda3\\lib\\site-packages (from efficientnet_pytorch) (2.0.0)\n",
      "Requirement already satisfied: sympy in c:\\programdata\\anaconda3\\lib\\site-packages (from torch->efficientnet_pytorch) (1.10.1)\n",
      "Requirement already satisfied: filelock in c:\\programdata\\anaconda3\\lib\\site-packages (from torch->efficientnet_pytorch) (3.6.0)\n",
      "Requirement already satisfied: networkx in c:\\programdata\\anaconda3\\lib\\site-packages (from torch->efficientnet_pytorch) (2.8.4)\n",
      "Requirement already satisfied: jinja2 in c:\\programdata\\anaconda3\\lib\\site-packages (from torch->efficientnet_pytorch) (2.11.3)\n",
      "Requirement already satisfied: typing-extensions in c:\\programdata\\anaconda3\\lib\\site-packages (from torch->efficientnet_pytorch) (4.3.0)\n",
      "Requirement already satisfied: MarkupSafe>=0.23 in c:\\programdata\\anaconda3\\lib\\site-packages (from jinja2->torch->efficientnet_pytorch) (2.0.1)\n",
      "Requirement already satisfied: mpmath>=0.19 in c:\\programdata\\anaconda3\\lib\\site-packages (from sympy->torch->efficientnet_pytorch) (1.2.1)\n"
     ]
    }
   ],
   "source": [
    "!pip install learn2learn\n",
    "!pip install efficientnet_pytorch\n",
    "\n",
    "from IPython.display import clear_output \n",
    "# clear_output()\n",
    "\n",
    "print('Done!')"
   ]
  },
  {
   "cell_type": "markdown",
   "metadata": {
    "id": "Ejwrm5SQOlil"
   },
   "source": [
    "***Import some libs***"
   ]
  },
  {
   "cell_type": "code",
   "execution_count": 1,
   "metadata": {
    "id": "PjDxpXL5Ok7F",
    "scrolled": true
   },
   "outputs": [],
   "source": [
    "import sys\n",
    "#sys.path.insert(0, '/content/drive/MyDrive/pg/siamese_triplet_net/src/')\n",
    "#sys.path.insert(0,'C:/Users/Mey/Documents/pg-coffee-main/siamese_triplet_net/src/')\n",
    "sys.path.insert(0,'C:/Users/Mey/Documents/pg-coffee-main/siamese_triplet_net/src/')\n",
    "import torch\n",
    "device = torch.cuda.is_available()\n",
    "from dataloaders import get_train_transforms, get_val_transforms, get_siamese_dataloader, get_triplet_dataloader\n",
    "from networks import SiameseNet, TripletNet \n",
    "from models import *\n",
    "from losses import ContrastiveLoss, TripletLoss\n",
    "from trainer import fit\n",
    "import torchvision\n",
    "\n"
   ]
  },
  {
   "cell_type": "markdown",
   "metadata": {
    "id": "hzNnIfy8QeDh"
   },
   "source": [
    "***Define model hiperparams***"
   ]
  },
  {
   "cell_type": "code",
   "execution_count": 2,
   "metadata": {
    "id": "-jph7D7XQdu4"
   },
   "outputs": [
    {
     "name": "stderr",
     "output_type": "stream",
     "text": [
      "C:\\ProgramData\\Anaconda3\\lib\\site-packages\\torchvision\\models\\_utils.py:208: UserWarning: The parameter 'pretrained' is deprecated since 0.13 and may be removed in the future, please use 'weights' instead.\n",
      "  warnings.warn(\n",
      "C:\\ProgramData\\Anaconda3\\lib\\site-packages\\torchvision\\models\\_utils.py:223: UserWarning: Arguments other than a weight enum or `None` for 'weights' are deprecated since 0.13 and may be removed in the future. The current behavior is equivalent to passing `weights=MobileNet_V2_Weights.IMAGENET1K_V1`. You can also use `weights=MobileNet_V2_Weights.DEFAULT` to get the most up-to-date weights.\n",
      "  warnings.warn(msg)\n"
     ]
    }
   ],
   "source": [
    "# model & optimizer & lr_scheduler\n",
    "embedding_net = MobileNetv2()\n",
    "model = TripletNet(embedding_net=embedding_net)\n",
    "\n",
    "optimizer = torch.optim.SGD(model.parameters(), lr=0.001, momentum=0.9)\n",
    "lr_scheduler = torch.optim.lr_scheduler.StepLR(optimizer, step_size=20, gamma=0.5)\n",
    "loss_fn = TripletLoss(1.)\n",
    "n_epochs=7 #100\n",
    "\n",
    "if device:\n",
    "    model.cuda()\n",
    "\n",
    "log_interval =7 # 100\n",
    "\n",
    "# path to data\n",
    "#path_data = '/content/drive/MyDrive/pg/dataset/'\n",
    "path_data='C:/Users/Mey/Documents/pg-coffee-main/siamese_triplet_net/src/dataset'\n",
    "\n",
    "# define siamese train and val loaders\n",
    "# this loader is implemented for datasets in ImageFolder format (https://pytorch.org/vision/stable/datasets.html#imagefolder)\n",
    "triplet_train_loader = get_triplet_dataloader(root=path_data + '/train/', batch_size=32, transforms=get_train_transforms())\n",
    "triplet_val_loader = get_triplet_dataloader(root=path_data + '/val/', batch_size=32, transforms=get_val_transforms())\n",
    "\n"
   ]
  },
  {
   "cell_type": "code",
   "execution_count": 3,
   "metadata": {
    "colab": {
     "base_uri": "https://localhost:8080/"
    },
    "executionInfo": {
     "elapsed": 4543735,
     "status": "ok",
     "timestamp": 1613943627179,
     "user": {
      "displayName": "Lucas Tassis",
      "photoUrl": "https://lh3.googleusercontent.com/a-/AOh14GgToNYHgJ8j8JWF5dtUeAHVtwqAD5b9oyH2ccp-=s64",
      "userId": "09714343097020322106"
     },
     "user_tz": 180
    },
    "id": "2kvFAYEoTBy5",
    "outputId": "a798e428-d7e5-4c15-c6e9-909c6d6a766e"
   },
   "outputs": [
    {
     "name": "stdout",
     "output_type": "stream",
     "text": [
      "Train: [0/1539 (0%)]\tLoss: 0.892851\n",
      "Epoch: 1/100. Train set: Average loss: 0.8426\n",
      "Epoch: 1/100. Validation set: Average loss: 0.6846\n",
      "Estimated time of epoch: 2913.2 s\n",
      "ETA:4855.33 min\n",
      "Train: [0/1539 (0%)]\tLoss: 0.687585\n",
      "Epoch: 2/100. Train set: Average loss: 0.5617\n",
      "Epoch: 2/100. Validation set: Average loss: 0.3502\n",
      "Estimated time of epoch: 2935.47 s\n",
      "ETA:4843.53 min\n",
      "Train: [0/1539 (0%)]\tLoss: 0.293948\n",
      "Epoch: 3/100. Train set: Average loss: 0.3438\n",
      "Epoch: 3/100. Validation set: Average loss: 0.2140\n",
      "Estimated time of epoch: 2745.05 s\n",
      "ETA:4483.58 min\n",
      "Train: [0/1539 (0%)]\tLoss: 0.379987\n",
      "Epoch: 4/100. Train set: Average loss: 0.2548\n",
      "Epoch: 4/100. Validation set: Average loss: 0.2165\n",
      "Estimated time of epoch: 2828.39 s\n",
      "ETA:4572.56 min\n",
      "Train: [0/1539 (0%)]\tLoss: 0.237701\n",
      "Epoch: 5/100. Train set: Average loss: 0.2108\n",
      "Epoch: 5/100. Validation set: Average loss: 0.1271\n",
      "Estimated time of epoch: 2819.24 s\n",
      "ETA:4510.78 min\n",
      "Train: [0/1539 (0%)]\tLoss: 0.175209\n",
      "Epoch: 6/100. Train set: Average loss: 0.1515\n",
      "Epoch: 6/100. Validation set: Average loss: 0.1267\n",
      "Estimated time of epoch: 2489.33 s\n",
      "ETA:3941.44 min\n",
      "Train: [0/1539 (0%)]\tLoss: 0.099938\n",
      "Epoch: 7/100. Train set: Average loss: 0.1282\n",
      "Epoch: 7/100. Validation set: Average loss: 0.0966\n",
      "Estimated time of epoch: 2500.96 s\n",
      "ETA:3918.17 min\n",
      "Train: [0/1539 (0%)]\tLoss: 0.232454\n",
      "Epoch: 8/100. Train set: Average loss: 0.1222\n",
      "Epoch: 8/100. Validation set: Average loss: 0.0722\n",
      "Estimated time of epoch: 2410.66 s\n",
      "ETA:3736.52 min\n",
      "Train: [0/1539 (0%)]\tLoss: 0.130719\n"
     ]
    },
    {
     "ename": "KeyboardInterrupt",
     "evalue": "",
     "output_type": "error",
     "traceback": [
      "\u001b[1;31m---------------------------------------------------------------------------\u001b[0m",
      "\u001b[1;31mKeyboardInterrupt\u001b[0m                         Traceback (most recent call last)",
      "\u001b[1;32m~\\AppData\\Local\\Temp\\ipykernel_11980\\1057598019.py\u001b[0m in \u001b[0;36m<module>\u001b[1;34m\u001b[0m\n\u001b[1;32m----> 1\u001b[1;33m \u001b[0mfit\u001b[0m\u001b[1;33m(\u001b[0m\u001b[0mtriplet_train_loader\u001b[0m\u001b[1;33m,\u001b[0m \u001b[0mtriplet_val_loader\u001b[0m\u001b[1;33m,\u001b[0m \u001b[0mmodel\u001b[0m\u001b[1;33m,\u001b[0m \u001b[0mloss_fn\u001b[0m\u001b[1;33m,\u001b[0m \u001b[0moptimizer\u001b[0m\u001b[1;33m,\u001b[0m \u001b[0mlr_scheduler\u001b[0m\u001b[1;33m,\u001b[0m \u001b[0mn_epochs\u001b[0m\u001b[1;33m,\u001b[0m \u001b[0mdevice\u001b[0m\u001b[1;33m,\u001b[0m \u001b[0mlog_interval\u001b[0m\u001b[1;33m)\u001b[0m\u001b[1;33m\u001b[0m\u001b[1;33m\u001b[0m\u001b[0m\n\u001b[0m",
      "\u001b[1;32mC:\\Users/Mey/Documents/pg-coffee-main/siamese_triplet_net/src\\trainer.py\u001b[0m in \u001b[0;36mfit\u001b[1;34m(train_loader, val_loader, model, loss_fn, optimizer, scheduler, n_epochs, cuda, log_interval, metrics, start_epoch)\u001b[0m\n\u001b[0;32m     27\u001b[0m \u001b[1;33m\u001b[0m\u001b[0m\n\u001b[0;32m     28\u001b[0m         \u001b[1;31m# Train stage\u001b[0m\u001b[1;33m\u001b[0m\u001b[1;33m\u001b[0m\u001b[0m\n\u001b[1;32m---> 29\u001b[1;33m         \u001b[0mtrain_loss\u001b[0m\u001b[1;33m,\u001b[0m \u001b[0mmetrics\u001b[0m \u001b[1;33m=\u001b[0m \u001b[0mtrain_epoch\u001b[0m\u001b[1;33m(\u001b[0m\u001b[0mtrain_loader\u001b[0m\u001b[1;33m,\u001b[0m \u001b[0mmodel\u001b[0m\u001b[1;33m,\u001b[0m \u001b[0mloss_fn\u001b[0m\u001b[1;33m,\u001b[0m \u001b[0moptimizer\u001b[0m\u001b[1;33m,\u001b[0m \u001b[0mcuda\u001b[0m\u001b[1;33m,\u001b[0m \u001b[0mlog_interval\u001b[0m\u001b[1;33m,\u001b[0m \u001b[0mmetrics\u001b[0m\u001b[1;33m)\u001b[0m\u001b[1;33m\u001b[0m\u001b[1;33m\u001b[0m\u001b[0m\n\u001b[0m\u001b[0;32m     30\u001b[0m \u001b[1;33m\u001b[0m\u001b[0m\n\u001b[0;32m     31\u001b[0m         \u001b[0mmessage\u001b[0m \u001b[1;33m=\u001b[0m \u001b[1;34m'Epoch: {}/{}. Train set: Average loss: {:.4f}'\u001b[0m\u001b[1;33m.\u001b[0m\u001b[0mformat\u001b[0m\u001b[1;33m(\u001b[0m\u001b[0mepoch\u001b[0m \u001b[1;33m+\u001b[0m \u001b[1;36m1\u001b[0m\u001b[1;33m,\u001b[0m \u001b[0mn_epochs\u001b[0m\u001b[1;33m,\u001b[0m \u001b[0mtrain_loss\u001b[0m\u001b[1;33m)\u001b[0m\u001b[1;33m\u001b[0m\u001b[1;33m\u001b[0m\u001b[0m\n",
      "\u001b[1;32mC:\\Users/Mey/Documents/pg-coffee-main/siamese_triplet_net/src\\trainer.py\u001b[0m in \u001b[0;36mtrain_epoch\u001b[1;34m(train_loader, model, loss_fn, optimizer, cuda, log_interval, metrics)\u001b[0m\n\u001b[0;32m     82\u001b[0m         \u001b[0mlosses\u001b[0m\u001b[1;33m.\u001b[0m\u001b[0mappend\u001b[0m\u001b[1;33m(\u001b[0m\u001b[0mloss\u001b[0m\u001b[1;33m.\u001b[0m\u001b[0mitem\u001b[0m\u001b[1;33m(\u001b[0m\u001b[1;33m)\u001b[0m\u001b[1;33m)\u001b[0m\u001b[1;33m\u001b[0m\u001b[1;33m\u001b[0m\u001b[0m\n\u001b[0;32m     83\u001b[0m         \u001b[0mtotal_loss\u001b[0m \u001b[1;33m+=\u001b[0m \u001b[0mloss\u001b[0m\u001b[1;33m.\u001b[0m\u001b[0mitem\u001b[0m\u001b[1;33m(\u001b[0m\u001b[1;33m)\u001b[0m\u001b[1;33m\u001b[0m\u001b[1;33m\u001b[0m\u001b[0m\n\u001b[1;32m---> 84\u001b[1;33m         \u001b[0mloss\u001b[0m\u001b[1;33m.\u001b[0m\u001b[0mbackward\u001b[0m\u001b[1;33m(\u001b[0m\u001b[1;33m)\u001b[0m\u001b[1;33m\u001b[0m\u001b[1;33m\u001b[0m\u001b[0m\n\u001b[0m\u001b[0;32m     85\u001b[0m         \u001b[0moptimizer\u001b[0m\u001b[1;33m.\u001b[0m\u001b[0mstep\u001b[0m\u001b[1;33m(\u001b[0m\u001b[1;33m)\u001b[0m\u001b[1;33m\u001b[0m\u001b[1;33m\u001b[0m\u001b[0m\n\u001b[0;32m     86\u001b[0m \u001b[1;33m\u001b[0m\u001b[0m\n",
      "\u001b[1;32mC:\\ProgramData\\Anaconda3\\lib\\site-packages\\torch\\_tensor.py\u001b[0m in \u001b[0;36mbackward\u001b[1;34m(self, gradient, retain_graph, create_graph, inputs)\u001b[0m\n\u001b[0;32m    485\u001b[0m                 \u001b[0minputs\u001b[0m\u001b[1;33m=\u001b[0m\u001b[0minputs\u001b[0m\u001b[1;33m,\u001b[0m\u001b[1;33m\u001b[0m\u001b[1;33m\u001b[0m\u001b[0m\n\u001b[0;32m    486\u001b[0m             )\n\u001b[1;32m--> 487\u001b[1;33m         torch.autograd.backward(\n\u001b[0m\u001b[0;32m    488\u001b[0m             \u001b[0mself\u001b[0m\u001b[1;33m,\u001b[0m \u001b[0mgradient\u001b[0m\u001b[1;33m,\u001b[0m \u001b[0mretain_graph\u001b[0m\u001b[1;33m,\u001b[0m \u001b[0mcreate_graph\u001b[0m\u001b[1;33m,\u001b[0m \u001b[0minputs\u001b[0m\u001b[1;33m=\u001b[0m\u001b[0minputs\u001b[0m\u001b[1;33m\u001b[0m\u001b[1;33m\u001b[0m\u001b[0m\n\u001b[0;32m    489\u001b[0m         )\n",
      "\u001b[1;32mC:\\ProgramData\\Anaconda3\\lib\\site-packages\\torch\\autograd\\__init__.py\u001b[0m in \u001b[0;36mbackward\u001b[1;34m(tensors, grad_tensors, retain_graph, create_graph, grad_variables, inputs)\u001b[0m\n\u001b[0;32m    198\u001b[0m     \u001b[1;31m# some Python versions print out the first line of a multi-line function\u001b[0m\u001b[1;33m\u001b[0m\u001b[1;33m\u001b[0m\u001b[0m\n\u001b[0;32m    199\u001b[0m     \u001b[1;31m# calls in the traceback and some print out the last line\u001b[0m\u001b[1;33m\u001b[0m\u001b[1;33m\u001b[0m\u001b[0m\n\u001b[1;32m--> 200\u001b[1;33m     Variable._execution_engine.run_backward(  # Calls into the C++ engine to run the backward pass\n\u001b[0m\u001b[0;32m    201\u001b[0m         \u001b[0mtensors\u001b[0m\u001b[1;33m,\u001b[0m \u001b[0mgrad_tensors_\u001b[0m\u001b[1;33m,\u001b[0m \u001b[0mretain_graph\u001b[0m\u001b[1;33m,\u001b[0m \u001b[0mcreate_graph\u001b[0m\u001b[1;33m,\u001b[0m \u001b[0minputs\u001b[0m\u001b[1;33m,\u001b[0m\u001b[1;33m\u001b[0m\u001b[1;33m\u001b[0m\u001b[0m\n\u001b[0;32m    202\u001b[0m         allow_unreachable=True, accumulate_grad=True)  # Calls into the C++ engine to run the backward pass\n",
      "\u001b[1;31mKeyboardInterrupt\u001b[0m: "
     ]
    }
   ],
   "source": [
    "fit(triplet_train_loader, triplet_val_loader, model, loss_fn, optimizer, lr_scheduler, n_epochs, device, log_interval)"
   ]
  },
  {
   "cell_type": "code",
   "execution_count": 4,
   "metadata": {
    "id": "Ob5aoJHQZ3cf"
   },
   "outputs": [
    {
     "ename": "ModuleNotFoundError",
     "evalue": "No module named 'cv2'",
     "output_type": "error",
     "traceback": [
      "\u001b[1;31m---------------------------------------------------------------------------\u001b[0m",
      "\u001b[1;31mModuleNotFoundError\u001b[0m                       Traceback (most recent call last)",
      "\u001b[1;32m~\\AppData\\Local\\Temp\\ipykernel_11980\\2661194560.py\u001b[0m in \u001b[0;36m<module>\u001b[1;34m\u001b[0m\n\u001b[0;32m      1\u001b[0m \u001b[1;31m# from: https://github.com/avilash/pytorch-siamese-triplet/blob/master/tsne.py\u001b[0m\u001b[1;33m\u001b[0m\u001b[1;33m\u001b[0m\u001b[0m\n\u001b[1;32m----> 2\u001b[1;33m \u001b[1;32mimport\u001b[0m \u001b[0mcv2\u001b[0m\u001b[1;33m\u001b[0m\u001b[1;33m\u001b[0m\u001b[0m\n\u001b[0m\u001b[0;32m      3\u001b[0m \u001b[1;32mimport\u001b[0m \u001b[0mnumpy\u001b[0m \u001b[1;32mas\u001b[0m \u001b[0mnp\u001b[0m\u001b[1;33m\u001b[0m\u001b[1;33m\u001b[0m\u001b[0m\n\u001b[0;32m      4\u001b[0m \u001b[1;32mfrom\u001b[0m \u001b[0msklearn\u001b[0m\u001b[1;33m.\u001b[0m\u001b[0mmanifold\u001b[0m \u001b[1;32mimport\u001b[0m \u001b[0mTSNE\u001b[0m\u001b[1;33m\u001b[0m\u001b[1;33m\u001b[0m\u001b[0m\n\u001b[0;32m      5\u001b[0m \u001b[1;32mimport\u001b[0m \u001b[0mmatplotlib\u001b[0m \u001b[1;32mas\u001b[0m \u001b[0mmpl\u001b[0m\u001b[1;33m\u001b[0m\u001b[1;33m\u001b[0m\u001b[0m\n",
      "\u001b[1;31mModuleNotFoundError\u001b[0m: No module named 'cv2'"
     ]
    }
   ],
   "source": [
    "# from: https://github.com/avilash/pytorch-siamese-triplet/blob/master/tsne.py\n",
    "import cv2\n",
    "import numpy as np\n",
    "from sklearn.manifold import TSNE\n",
    "import matplotlib as mpl\n",
    "import matplotlib.pyplot as plt\n",
    "from tqdm import tqdm\n",
    "from torchvision import transforms\n",
    "from torch.autograd import Variable\n",
    "import os\n",
    "import pandas as pd\n",
    "import seaborn as sns\n",
    "def generate_embeddings(data_loader, model):\n",
    "    with torch.no_grad():\n",
    "        device = 'cuda'\n",
    "        model.eval()\n",
    "        model.to(device)\n",
    "        labels = None\n",
    "        embeddings = None\n",
    "        for batch_idx, data in tqdm(enumerate(data_loader)):\n",
    "            batch_imgs, batch_labels = data\n",
    "            batch_labels = batch_labels.numpy()\n",
    "            batch_imgs = Variable(batch_imgs.to('cuda'))\n",
    "            batch_E = model.get_embedding(batch_imgs)\n",
    "            batch_E = batch_E.data.cpu().numpy()\n",
    "            embeddings = np.concatenate((embeddings, batch_E), axis=0) if embeddings is not None else batch_E\n",
    "            labels = np.concatenate((labels, batch_labels), axis=0) if labels is not None else batch_labels\n",
    "    return embeddings, labels\n",
    "\n",
    "def vis_tSNE(embeddings, labels, backbone='Convnet'):\n",
    "    num_samples = embeddings.shape[0]\n",
    "    X_embedded = TSNE(n_components=2).fit_transform(embeddings[0:num_samples, :])\n",
    "    plt.figure(figsize=(16, 16))\n",
    "    colors = ['#1f77b4', '#ff7f0e', '#2ca02c', '#d62728', '#9467bd']\n",
    "    labels_name = ['Healthy', 'Miner', 'Rust', 'Phoma', 'Cercospora']\n",
    "    for i in range(5):\n",
    "        inds = np.where(labels==i)[0]\n",
    "        plt.scatter(X_embedded[inds,0], X_embedded[inds,1], alpha=.8, color=colors[i], s=200)\n",
    "    # plt.title(f't-SNE', fontweight='bold', fontsize=24)\n",
    "    plt.legend(labels_name, fontsize=30)\n",
    "    plt.savefig(f'./tsne_{backbone}.png')\n",
    "\n"
   ]
  },
  {
   "cell_type": "code",
   "execution_count": null,
   "metadata": {
    "colab": {
     "base_uri": "https://localhost:8080/"
    },
    "id": "1mU8DtCZaMqj",
    "outputId": "46d3ee2f-f4fc-44dc-da77-41ce0bfddd72"
   },
   "outputs": [],
   "source": [
    "test_data = torchvision.datasets.ImageFolder(root=path_data + '/test/', transform=get_val_transforms())\n",
    "test_loader = torch.utils.data.DataLoader(test_data, batch_size=1)\n",
    "\n",
    "val_embeddings_cl, val_labels_cl = generate_embeddings(test_loader, model)\n",
    "vis_tSNE(val_embeddings_cl, val_labels_cl)"
   ]
  },
  {
   "cell_type": "code",
   "execution_count": null,
   "metadata": {
    "colab": {
     "base_uri": "https://localhost:8080/"
    },
    "executionInfo": {
     "elapsed": 10764,
     "status": "ok",
     "timestamp": 1613943820691,
     "user": {
      "displayName": "Lucas Tassis",
      "photoUrl": "https://lh3.googleusercontent.com/a-/AOh14GgToNYHgJ8j8JWF5dtUeAHVtwqAD5b9oyH2ccp-=s64",
      "userId": "09714343097020322106"
     },
     "user_tz": 180
    },
    "id": "4jFjZZbh8hPk",
    "outputId": "c6028f1d-f8b8-41ba-f158-b73ee8175b57"
   },
   "outputs": [],
   "source": [
    "train_data = torchvision.datasets.ImageFolder(root=path_data + '/train/', transform=get_val_transforms())\n",
    "train_loader = torch.utils.data.DataLoader(train_data, batch_size=32)\n",
    "\n",
    "test_data = torchvision.datasets.ImageFolder(root=path_data + '/test/', transform=get_val_transforms())\n",
    "test_loader = torch.utils.data.DataLoader(test_data, batch_size=32)\n",
    "\n",
    "x_train, y_train = generate_embeddings(train_loader, model)\n",
    "x_test, y_true = generate_embeddings(test_loader, model)\n",
    "\n",
    "from sklearn.neighbors import KNeighborsClassifier\n",
    "from sklearn.metrics import accuracy_score, precision_score, recall_score, f1_score\n",
    "from sklearn.svm import SVC\n",
    "from sklearn.linear_model import SGDClassifier\n",
    "\n",
    "classifier = KNeighborsClassifier(n_neighbors=1)\n",
    "# classifier = SVC()\n",
    "# classifier = SGDClassifier()\n",
    "classifier.fit(x_train, y_train)\n",
    "y_pred = classifier.predict(x_test)\n",
    "\n",
    "accuracy = round(accuracy_score(y_true, y_pred)*100, 2)\n",
    "precision = round(precision_score(y_true, y_pred, average='macro')*100, 2)\n",
    "recall = round(recall_score(y_true, y_pred, average='macro')*100, 2)\n",
    "f1 = round(f1_score(y_true, y_pred, average='macro')*100, 2)\n",
    "print(f'--- Results for MobileNetv2 Embeddings on KNN (k = 1) ---')\n",
    "print(f'Accuracy Score:{accuracy}')\n",
    "print(f'Precision Score: {precision}')\n",
    "print(f'Recall Score: {recall}')\n",
    "print(f'F1 Score: {f1}')"
   ]
  }
 ],
 "metadata": {
  "accelerator": "GPU",
  "colab": {
   "authorship_tag": "ABX9TyPLxhcalsX1VF01Rb+NqxFL",
   "collapsed_sections": [],
   "mount_file_id": "1t6d0ajhPc8SBafnIyXuk7TSsqInUHG0c",
   "name": "run_siamese_triplet.ipynb",
   "provenance": [],
   "toc_visible": true
  },
  "kernelspec": {
   "display_name": "Python 3 (ipykernel)",
   "language": "python",
   "name": "python3"
  },
  "language_info": {
   "codemirror_mode": {
    "name": "ipython",
    "version": 3
   },
   "file_extension": ".py",
   "mimetype": "text/x-python",
   "name": "python",
   "nbconvert_exporter": "python",
   "pygments_lexer": "ipython3",
   "version": "3.9.13"
  }
 },
 "nbformat": 4,
 "nbformat_minor": 1
}
